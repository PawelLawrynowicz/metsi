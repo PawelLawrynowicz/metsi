{
 "cells": [
  {
   "cell_type": "code",
   "execution_count": 1,
   "metadata": {},
   "outputs": [
    {
     "name": "stdout",
     "output_type": "stream",
     "text": [
      "(100, 20) (100,)\n"
     ]
    }
   ],
   "source": [
    "from sklearn import datasets\n",
    "X, y = datasets.make_classification()\n",
    "print(X.shape, y.shape) # 100 wzorców po 20 atrybutów i 100 etykiet"
   ]
  },
  {
   "cell_type": "code",
   "execution_count": 3,
   "metadata": {},
   "outputs": [
    {
     "name": "stdout",
     "output_type": "stream",
     "text": [
      "(1000, 8) (1000,)\n"
     ]
    }
   ],
   "source": [
    "X, y = datasets.make_classification(\n",
    "\tn_samples=1000,\n",
    "\tn_features=8\n",
    ")\n",
    "print(X.shape, y.shape)"
   ]
  },
  {
   "cell_type": "code",
   "execution_count": 5,
   "metadata": {},
   "outputs": [
    {
     "data": {
      "image/png": "[encoded data removed]",
      "text/plain": [
       "<Figure size 360x180 with 1 Axes>"
      ]
     },
     "metadata": {
      "needs_background": "light"
     },
     "output_type": "display_data"
    }
   ],
   "source": [
    "X, y = datasets.make_classification(\n",
    "    n_samples=100,\n",
    "    n_features=2,\n",
    "    n_informative=1,\n",
    "    n_repeated=0,\n",
    "    n_redundant=0,\n",
    "    flip_y=.05,\n",
    "    random_state=1410,\n",
    "    n_clusters_per_class=1\n",
    ")\n",
    "import matplotlib.pyplot as plt\n",
    "plt.figure(figsize=(5,2.5))\n",
    "plt.scatter(X[:,0], X[:,1], c=y, cmap='bwr')\n",
    "plt.xlabel(\"$x^1$\")\n",
    "plt.ylabel(\"$x^2$\")\n",
    "plt.tight_layout()\n",
    "plt.show()\n"
   ]
  },
  {
   "cell_type": "code",
   "execution_count": 12,
   "metadata": {},
   "outputs": [],
   "source": [
    "import numpy as np\n",
    "dataset = np.concatenate((X, y[:, np.newaxis]), axis=1)\n",
    "np.savetxt(\n",
    "    \"/home/pwl/Documents/metsi/data/dataset.csv\",\n",
    "    dataset,\n",
    "    delimiter=\",\",\n",
    "    fmt=[\"%.5f\" for i in range(X.shape[1])] + [\"%i\"],\n",
    ")\n",
    "\n"
   ]
  },
  {
   "cell_type": "code",
   "execution_count": 13,
   "metadata": {},
   "outputs": [
    {
     "name": "stdout",
     "output_type": "stream",
     "text": [
      "[[-1.06089  2.45581  0.     ]\n",
      " [-0.68531 -1.50049  0.     ]\n",
      " [ 0.77754  1.33051  1.     ]\n",
      " [ 0.69338  0.72171  1.     ]\n",
      " [-0.27158  0.79345  1.     ]\n",
      " [ 1.08768  1.65211  1.     ]\n",
      " [-1.15141  0.97482  0.     ]\n",
      " [-1.12416 -0.28738  0.     ]\n",
      " [-0.99262  0.3877   1.     ]\n",
      " [-0.83741 -0.26357  0.     ]\n",
      " [ 0.84508  0.73397  1.     ]\n",
      " [ 1.01045 -0.99315  1.     ]\n",
      " [-1.00656  0.72067  0.     ]\n",
      " [-0.8899   0.18131  0.     ]\n",
      " [ 1.11534  0.3576   1.     ]\n",
      " [ 1.29493 -0.66868  1.     ]\n",
      " [ 0.59461  0.66218  1.     ]\n",
      " [ 0.39042 -1.53633  1.     ]\n",
      " [ 1.12943 -1.05685  1.     ]\n",
      " [ 1.29338  0.97753  1.     ]\n",
      " [-0.83007 -0.34514  0.     ]\n",
      " [ 0.15194 -0.20205  1.     ]\n",
      " [ 0.61912  0.02899  1.     ]\n",
      " [-1.18029 -0.84271  0.     ]\n",
      " [-1.00507 -2.7653   0.     ]\n",
      " [-1.029    0.8954   0.     ]\n",
      " [ 1.89285 -0.55948  1.     ]\n",
      " [-0.76195  0.15402  0.     ]\n",
      " [-1.20513  1.2228   0.     ]\n",
      " [ 1.27308  0.05389  1.     ]\n",
      " [-1.12224 -0.02634  0.     ]\n",
      " [ 1.16073 -0.49128  1.     ]\n",
      " [ 1.8549  -0.03684  1.     ]\n",
      " [ 1.05252 -1.51845  1.     ]\n",
      " [-1.24592 -2.10728  0.     ]\n",
      " [ 0.67616  2.29602  0.     ]\n",
      " [ 0.52569  0.88985  1.     ]\n",
      " [ 1.29223  1.13005  1.     ]\n",
      " [ 2.25599  0.18753  1.     ]\n",
      " [-0.64747  0.56118  1.     ]\n",
      " [-0.9472   0.88676  0.     ]\n",
      " [ 0.51262 -0.76225  1.     ]\n",
      " [ 1.39808 -1.06437  1.     ]\n",
      " [ 0.6766  -1.45905  1.     ]\n",
      " [-1.32282 -0.38158  0.     ]\n",
      " [ 1.11132 -1.13684  1.     ]\n",
      " [ 0.64977 -1.14546  1.     ]\n",
      " [-0.97189 -1.45431  0.     ]\n",
      " [-1.10982  2.34807  0.     ]\n",
      " [ 1.35536 -1.14024  1.     ]\n",
      " [-1.07338 -1.18411  0.     ]\n",
      " [ 0.94613 -1.39663  0.     ]\n",
      " [-1.03674 -0.78027  0.     ]\n",
      " [ 1.39799 -0.29679  1.     ]\n",
      " [ 0.38613 -1.10475  1.     ]\n",
      " [-0.88398  0.48895  0.     ]\n",
      " [-0.70471  1.44114  0.     ]\n",
      " [ 0.94403  0.97309  1.     ]\n",
      " [-0.99166  0.57387  0.     ]\n",
      " [-1.04743 -2.0193   0.     ]\n",
      " [-0.88612  0.67378  0.     ]\n",
      " [-1.22667  1.38125  0.     ]\n",
      " [ 0.3133  -1.93555  1.     ]\n",
      " [ 0.63671  1.34204  1.     ]\n",
      " [ 0.95482  0.73591  1.     ]\n",
      " [-0.92126  0.57158  0.     ]\n",
      " [-1.05262 -1.63567  0.     ]\n",
      " [ 1.42276  1.24611  1.     ]\n",
      " [ 1.88709  0.50422  1.     ]\n",
      " [ 0.88023 -0.07854  1.     ]\n",
      " [-0.89042  1.19621  0.     ]\n",
      " [ 0.39903 -1.21434  1.     ]\n",
      " [-0.89277  0.15165  0.     ]\n",
      " [ 0.83855  0.88201  1.     ]\n",
      " [-0.55706 -2.01313  0.     ]\n",
      " [-0.97332  1.97709  0.     ]\n",
      " [ 1.03891  0.75345  1.     ]\n",
      " [-1.03801  0.49036  0.     ]\n",
      " [-1.24931  1.04224  0.     ]\n",
      " [-1.12312 -0.1309   0.     ]\n",
      " [-1.08001 -0.16183  0.     ]\n",
      " [ 1.35329  1.61352  1.     ]\n",
      " [-1.1394   0.2374   0.     ]\n",
      " [ 1.42761 -1.46104  1.     ]\n",
      " [ 1.02956  0.23509  1.     ]\n",
      " [ 0.82727 -0.23814  1.     ]\n",
      " [-0.81536 -0.66733  0.     ]\n",
      " [-0.93232  0.1647   0.     ]\n",
      " [ 1.41486  0.52837  1.     ]\n",
      " [-0.97703  1.12215  0.     ]\n",
      " [-0.9153   0.69746  0.     ]\n",
      " [ 1.69522  0.01436  1.     ]\n",
      " [-1.22742  0.08995  0.     ]\n",
      " [-1.00165  0.41415  0.     ]\n",
      " [-1.14424  0.78703  0.     ]\n",
      " [ 2.02522  0.13405  1.     ]\n",
      " [-0.60365  0.31157  0.     ]\n",
      " [-0.81739 -0.31896  0.     ]\n",
      " [-1.32245 -1.38554  0.     ]\n",
      " [-1.1046   1.99557  0.     ]]\n",
      "(100, 2) (100,)\n"
     ]
    }
   ],
   "source": [
    "dataset = np.genfromtxt(\"data/dataset.csv\", delimiter=\",\")\n",
    "print(dataset)\n",
    "\n",
    "X = dataset[:, :-1]\n",
    "y = dataset[:, -1].astype(int)\n",
    "\n",
    "print(X.shape, y.shape)"
   ]
  }
 ],
 "metadata": {
  "interpreter": {
   "hash": "e7370f93d1d0cde622a1f8e1c04877d8463912d04d973331ad4851f04de6915a"
  },
  "kernelspec": {
   "display_name": "Python 3.8.10 64-bit",
   "language": "python",
   "name": "python3"
  },
  "language_info": {
   "codemirror_mode": {
    "name": "ipython",
    "version": 3
   },
   "file_extension": ".py",
   "mimetype": "text/x-python",
   "name": "python",
   "nbconvert_exporter": "python",
   "pygments_lexer": "ipython3",
   "version": "3.8.10"
  },
  "orig_nbformat": 4
 },
 "nbformat": 4,
 "nbformat_minor": 2
}
